{
 "cells": [
  {
   "cell_type": "code",
   "execution_count": 1,
   "metadata": {},
   "outputs": [],
   "source": [
    "import os\n",
    "from importlib import import_module\n",
    "\n",
    "from django import setup\n",
    "from django.conf import settings\n",
    "\n",
    "os.environ[\"DJANGO_ALLOW_ASYNC_UNSAFE\"] = \"true\"\n",
    "my_settings = import_module(\"Configs.settings\")\n",
    "settings.configure(\n",
    "    DATABASES=my_settings.DATABASES,\n",
    "    INSTALLED_APPS=my_settings.INSTALLED_APPS,\n",
    "    SECRET_KEY=\"django-insecure-&im0r5g-55jgm3r5y71n-)!_q#1s*1d0%en#1a(amut@332x5*\",\n",
    ")\n",
    "setup()\n",
    "\n",
    "from DB.models import AndroidMetadata, Label, Profile, RoomMasterTable, Session"
   ]
  },
  {
   "cell_type": "markdown",
   "metadata": {},
   "source": [
    "Company Sum"
   ]
  },
  {
   "cell_type": "code",
   "execution_count": null,
   "metadata": {},
   "outputs": [],
   "source": [
    "from jdatetime import datetime, date, time\n",
    "from django.db.models import Sum\n",
    "\n",
    "year, month, day = 1403, 7, 1\n",
    "dt = datetime.combine(date(year, month, day), time(0, 0)).timestamp() * 1000\n",
    "filters = {\"timestamp__gte\": dt, \"label__title\": \"compony\"}\n",
    "filters"
   ]
  },
  {
   "cell_type": "code",
   "execution_count": null,
   "metadata": {},
   "outputs": [],
   "source": [
    "list(Session.objects.filter(**filters))"
   ]
  },
  {
   "cell_type": "code",
   "execution_count": null,
   "metadata": {},
   "outputs": [],
   "source": [
    "total = Session.objects.filter(**filters).aggregate(Sum(\"duration\"))\n",
    "total[\"duration__sum\"] / 60 * 3 / 2"
   ]
  },
  {
   "cell_type": "markdown",
   "metadata": {},
   "source": [
    "Mean 5 week work hours for rest of the week"
   ]
  },
  {
   "cell_type": "code",
   "execution_count": null,
   "metadata": {},
   "outputs": [],
   "source": [
    "from jdatetime import date, datetime, time, timedelta\n",
    "\n",
    "now = datetime.now()\n",
    "weekday = now.weekday()\n",
    "res = {}\n",
    "for session in Session.objects.all().order_by(\"-timestamp\"):\n",
    "    if (\n",
    "        session.gdatetime\n",
    "        + timedelta(weeks=4)\n",
    "        + timedelta(days=session.gdatetime.weekday() + 1)\n",
    "        < now\n",
    "    ):\n",
    "        break\n",
    "    if session.gdatetime.weekday() < weekday:\n",
    "        continue\n",
    "    weeknumber = session.gdatetime.isocalendar()[1]\n",
    "    res[weeknumber] = res.get(weeknumber, 0) + session.duration\n",
    "\n",
    "res_mean = round(sum(res.values()) / len(res))\n",
    "f\"{res_mean//60:02}:{res_mean%60:02}\""
   ]
  }
 ],
 "metadata": {
  "kernelspec": {
   "display_name": ".venv",
   "language": "python",
   "name": "python3"
  },
  "language_info": {
   "codemirror_mode": {
    "name": "ipython",
    "version": 3
   },
   "file_extension": ".py",
   "mimetype": "text/x-python",
   "name": "python",
   "nbconvert_exporter": "python",
   "pygments_lexer": "ipython3",
   "version": "3.11.0"
  }
 },
 "nbformat": 4,
 "nbformat_minor": 2
}
