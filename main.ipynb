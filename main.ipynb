{
 "cells": [
  {
   "cell_type": "code",
   "execution_count": 1,
   "metadata": {},
   "outputs": [],
   "source": [
    "import os\n",
    "from importlib import import_module\n",
    "\n",
    "from django import setup\n",
    "from django.conf import settings\n",
    "\n",
    "os.environ[\"DJANGO_ALLOW_ASYNC_UNSAFE\"] = \"true\"\n",
    "my_settings = import_module(\"Configs.settings\")\n",
    "settings.configure(\n",
    "    DATABASES=my_settings.DATABASES,\n",
    "    INSTALLED_APPS=my_settings.INSTALLED_APPS,\n",
    "    SECRET_KEY=\"django-insecure-&im0r5g-55jgm3r5y71n-)!_q#1s*1d0%en#1a(amut@332x5*\",\n",
    ")\n",
    "setup()\n",
    "\n",
    "from DB.models import AndroidMetadata, Label, Profile, RoomMasterTable, Session"
   ]
  },
  {
   "cell_type": "markdown",
   "metadata": {},
   "source": [
    "Find Unusual Durations"
   ]
  },
  {
   "cell_type": "code",
   "execution_count": 25,
   "metadata": {},
   "outputs": [
    {
     "data": {
      "text/plain": [
       "{'timestamp__gte': 1724358600000.0, 'label__title': 'compony'}"
      ]
     },
     "execution_count": 25,
     "metadata": {},
     "output_type": "execute_result"
    }
   ],
   "source": [
    "from jdatetime import datetime, date, time\n",
    "from django.db.models import Sum\n",
    "\n",
    "year, month, day = 1403, 6, 2\n",
    "dt = datetime.combine(date(year, month, day), time(0, 0)).timestamp() * 1000\n",
    "filters = {\"timestamp__gte\": dt, \"label__title\": \"compony\"}\n",
    "filters"
   ]
  },
  {
   "cell_type": "code",
   "execution_count": 26,
   "metadata": {},
   "outputs": [
    {
     "data": {
      "text/plain": [
       "[<Session: 67 | compony 04:00 1403-06-06 18:00:00>,\n",
       " <Session: 73 | compony 00:45 1403-06-10 20:01:26.119000>,\n",
       " <Session: 74 | compony 00:45 1403-06-10 21:08:21.416000>,\n",
       " <Session: 75 | compony 00:26 1403-06-10 22:09:22.705000>,\n",
       " <Session: 76 | compony 00:42 1403-06-11 13:58:31.539000>,\n",
       " <Session: 77 | compony 00:45 1403-06-11 20:47:34.490000>,\n",
       " <Session: 79 | compony 00:45 1403-06-12 00:27:03.347000>,\n",
       " <Session: 80 | compony 00:45 1403-06-12 01:27:57.623000>]"
      ]
     },
     "execution_count": 26,
     "metadata": {},
     "output_type": "execute_result"
    }
   ],
   "source": [
    "list(Session.objects.filter(**filters))"
   ]
  },
  {
   "cell_type": "code",
   "execution_count": 28,
   "metadata": {},
   "outputs": [
    {
     "data": {
      "text/plain": [
       "30.575"
      ]
     },
     "execution_count": 28,
     "metadata": {},
     "output_type": "execute_result"
    }
   ],
   "source": [
    "total = Session.objects.filter(**filters).aggregate(Sum(\"duration\"))\n",
    "total[\"duration__sum\"] / 60*3/2+7.25+10"
   ]
  }
 ],
 "metadata": {
  "kernelspec": {
   "display_name": ".venv",
   "language": "python",
   "name": "python3"
  },
  "language_info": {
   "codemirror_mode": {
    "name": "ipython",
    "version": 3
   },
   "file_extension": ".py",
   "mimetype": "text/x-python",
   "name": "python",
   "nbconvert_exporter": "python",
   "pygments_lexer": "ipython3",
   "version": "3.11.0"
  }
 },
 "nbformat": 4,
 "nbformat_minor": 2
}
